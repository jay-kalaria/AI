{
 "cells": [
  {
   "cell_type": "code",
   "execution_count": null,
   "id": "465824d4-0ee4-46b3-b044-09bded5244b8",
   "metadata": {},
   "outputs": [],
   "source": [
    "!pip install langchain"
   ]
  },
  {
   "cell_type": "code",
   "execution_count": null,
   "id": "b4720f64-a31e-4e69-9513-82d8e2d4c4a0",
   "metadata": {
    "scrolled": true
   },
   "outputs": [],
   "source": [
    "\n",
    "!pip install python-dotenv"
   ]
  },
  {
   "cell_type": "code",
   "execution_count": 15,
   "id": "996d2318-e44a-41d9-a9df-3d1ea3765d15",
   "metadata": {},
   "outputs": [],
   "source": [
    "import os \n",
    "from dotenv import load_dotenv\n",
    "load_dotenv()\n",
    "openapi_key = os.getenv(\"OPENAI_API_KEY\")"
   ]
  },
  {
   "cell_type": "code",
   "execution_count": null,
   "id": "b51d0595-2cb4-4efa-b338-cf040b2a329f",
   "metadata": {},
   "outputs": [],
   "source": [
    "from langchain.llms import OpenAI\n",
    "llm = OpenAI(temperature=0.6)\n",
    "name=llm(\"I want to go hiking near Munich . Suggest something \")\n",
    "print(name)"
   ]
  },
  {
   "cell_type": "code",
   "execution_count": null,
   "id": "73924649-a5c1-4e4f-8f79-439509d40552",
   "metadata": {
    "scrolled": true
   },
   "outputs": [],
   "source": [
    "from langchain.prompts import PromptTemplate\n",
    "prompt_template = PromptTemplate(\n",
    "    input_variables = ['place'],\n",
    "    template = \"I want to go hiking near {place} .Suggest something \"\n",
    ")\n",
    "\n",
    "prompt_template.format(place=\"India\")"
   ]
  },
  {
   "cell_type": "code",
   "execution_count": null,
   "id": "0230ad23-6501-4e16-b2fb-957fb954a4cc",
   "metadata": {
    "scrolled": true
   },
   "outputs": [],
   "source": [
    "#Chain \n",
    "\n",
    "from langchain.chains import LLMChain\n",
    "\n",
    "chain=LLMChain(llm=llm , prompt=prompt_template)\n",
    "chain.run(\"Rosenheim\")\n"
   ]
  },
  {
   "cell_type": "code",
   "execution_count": null,
   "id": "9c5fed2e-82f0-4921-b334-2935b2582074",
   "metadata": {},
   "outputs": [],
   "source": [
    "# Simple sequential chain\n",
    "\n",
    "from langchain.prompts import PromptTemplate\n",
    "prompt_template_name = PromptTemplate(\n",
    "    input_variables = ['cuisine'],\n",
    "    template = \"I want to open {cuisine} food restaurant.Suggest a name\"\n",
    ")\n",
    "name_chain=LLMChain(llm=llm , prompt=prompt_template_name)\n",
    "\n",
    "prompt_template_items = PromptTemplate(\n",
    "    input_variables = ['restaurant_name'],\n",
    "    template = \"Suggest food items for {restaurant_name} .Return as comma seperated list .\"\n",
    ")\n",
    "food_items_chain = LLMChain(llm=llm , prompt=prompt_template_items )"
   ]
  },
  {
   "cell_type": "code",
   "execution_count": null,
   "id": "585423c7-48cb-4882-bb4d-53bd8b9ed1e6",
   "metadata": {},
   "outputs": [],
   "source": [
    "from langchain.chains import SimpleSequentialChain\n",
    "\n",
    "chain = SimpleSequentialChain(chains=[name_chain,food_items_chain])\n",
    "response = chain.run(\"German\")\n",
    "print(response)"
   ]
  },
  {
   "cell_type": "code",
   "execution_count": null,
   "id": "672a6b5a-7cf5-490b-b5ba-c581f2671ae0",
   "metadata": {},
   "outputs": [],
   "source": [
    "# Sequential chain\n",
    "\n",
    "from langchain.prompts import PromptTemplate\n",
    "prompt_template_name = PromptTemplate(\n",
    "    input_variables = ['cuisine'],\n",
    "    template = \"I want to open {cuisine} food restaurant.Suggest a name\"\n",
    ")\n",
    "name_chain=LLMChain(llm=llm , prompt=prompt_template_name , output_key=\"restaurant_name\")\n",
    "\n",
    "prompt_template_items = PromptTemplate(\n",
    "    input_variables = ['restaurant_name'],\n",
    "    template = \"Suggest food items for {restaurant_name} .Return as comma seperated list .\"\n",
    ")\n",
    "food_items_chain = LLMChain(llm=llm , prompt=prompt_template_items , output_key=\"menu_items\")"
   ]
  },
  {
   "cell_type": "code",
   "execution_count": null,
   "id": "84989fb2-ada2-409c-ad47-a98ec2dcdf6a",
   "metadata": {},
   "outputs": [],
   "source": [
    "from langchain.chains import SequentialChain\n",
    "\n",
    "chain=SequentialChain(\n",
    "    chains =[name_chain,food_items_chain],\n",
    "    input_variables =['cuisine'],\n",
    "    output_variables = ['restaurant_name','menu_items']\n",
    ")\n",
    "chain({'cuisine':'Arabic'})"
   ]
  },
  {
   "cell_type": "code",
   "execution_count": null,
   "id": "8c818659-2231-42fd-9097-4417b2a7fa25",
   "metadata": {
    "scrolled": true
   },
   "outputs": [],
   "source": [
    "from langchain.agents import AgentType , initialize_agent ,load_tools\n",
    "from langchain_community.llms import OpenAI\n",
    "\n",
    "tools = load_tools([\"wikipedia\",\"llm-math\"],llm=llm)\n",
    "\n",
    "agent=initialize_agent(\n",
    "    tools,\n",
    "    llm,\n",
    "    agent= AgentType.ZERO_SHOT_REACT_DESCRIPTION ,  # Though action\n",
    "    verbose =True               #figure out internal step\n",
    ")\n",
    "\n",
    "agent.run(\"When was Elon Musk born and his age right now in 2023 ? \")\n"
   ]
  },
  {
   "cell_type": "code",
   "execution_count": 19,
   "id": "d39c03b2-42c3-487b-b4a9-8d2bd7c75b2d",
   "metadata": {
    "scrolled": true
   },
   "outputs": [
    {
     "name": "stdout",
     "output_type": "stream",
     "text": [
      "\n",
      "\n",
      "\u001b[1m> Entering new AgentExecutor chain...\u001b[0m\n",
      "\u001b[32;1m\u001b[1;3m I should use the Search tool to find information about India's GDP\n",
      "Action: Search\n",
      "Action Input: \"India GDP\"\u001b[0m\n",
      "Observation: \u001b[36;1m\u001b[1;3m[{'title': \"India's Ola Electric goes public, Australia-U.S. two-plus-two, Indonesian GDP\", 'link': 'https://asia.nikkei.com/Spotlight/Your-Week-in-Asia/India-s-Ola-Electric-goes-public-Australia-U.S.-two-plus-two-Indonesian-GDP', 'source': 'Nikkei Asia', 'date': '2 days ago', 'thumbnail': 'https://serpapi.com/searches/66b2794b5119a6c71ad6e1bf/images/e376ac62e15150f87fe1920837a2b6f5dc61375a4503d947.jpeg'}, {'title': 'Why India will become a superpower', 'link': 'https://www.ft.com/content/7ebec65b-79fb-4366-8d55-bc817c8606ac', 'source': 'Financial Times', 'date': '1 month ago', 'thumbnail': 'https://serpapi.com/searches/66b2794b5119a6c71ad6e1bf/images/e376ac62e15150f822c805af60ba2ae643c5f601e524fa6f.jpeg'}, {'title': 'India budget: Can Modi 3.0 transform India’s economy?', 'link': 'https://www.bbc.com/news/articles/cq5jwyel12qo', 'source': 'BBC', 'date': '2 weeks ago', 'thumbnail': 'https://serpapi.com/searches/66b2794b5119a6c71ad6e1bf/images/e376ac62e15150f8183d1f914eb1469d738e38bbb3d2727b.jpeg'}]\u001b[0m\n",
      "Thought:\u001b[32;1m\u001b[1;3m I should use the Calculator tool to calculate India's GDP\n",
      "Action: Calculator\n",
      "Action Input: 2.97 trillion\u001b[0m\n",
      "Observation: \u001b[33;1m\u001b[1;3mAnswer: 2970000000000.0\u001b[0m\n",
      "Thought:\u001b[32;1m\u001b[1;3m I now know the final answer\n",
      "Final Answer: India's GDP is 2.97 trillion USD.\u001b[0m\n",
      "\n",
      "\u001b[1m> Finished chain.\u001b[0m\n"
     ]
    },
    {
     "data": {
      "text/plain": [
       "\"India's GDP is 2.97 trillion USD.\""
      ]
     },
     "execution_count": 19,
     "metadata": {},
     "output_type": "execute_result"
    }
   ],
   "source": [
    "from dotenv import load_dotenv\n",
    "import os\n",
    "\n",
    "load_dotenv()\n",
    "SERPAPI_API_KEY= os.getenv(\"SERPAPI_API_KEY\")\n",
    "\n",
    "llm = OpenAI(temperature=0)\n",
    "\n",
    "tools = load_tools(['serpapi','llm-math'],llm=llm)\n",
    "\n",
    "agent = initialize_agent(\n",
    "    tools,\n",
    "    llm,\n",
    "    agent= AgentType.ZERO_SHOT_REACT_DESCRIPTION,\n",
    "    verbose = True \n",
    ")\n",
    "\n",
    "agent.run(\"What is India GDP\")"
   ]
  }
 ],
 "metadata": {
  "kernelspec": {
   "display_name": "Python 3 (ipykernel)",
   "language": "python",
   "name": "python3"
  },
  "language_info": {
   "codemirror_mode": {
    "name": "ipython",
    "version": 3
   },
   "file_extension": ".py",
   "mimetype": "text/x-python",
   "name": "python",
   "nbconvert_exporter": "python",
   "pygments_lexer": "ipython3",
   "version": "3.11.9"
  }
 },
 "nbformat": 4,
 "nbformat_minor": 5
}
